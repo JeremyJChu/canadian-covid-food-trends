{
  "nbformat": 4,
  "nbformat_minor": 0,
  "metadata": {
    "colab": {
      "name": "Food-Cleaning-1.ipynb",
      "provenance": []
    },
    "kernelspec": {
      "name": "python3",
      "display_name": "Python 3"
    },
    "language_info": {
      "name": "python"
    }
  },
  "cells": [
    {
      "cell_type": "code",
      "metadata": {
        "id": "hXsnpJqin3Q7"
      },
      "source": [
        "import pandas as pd\n",
        "import numpy as np\n",
        "from functools import reduce"
      ],
      "execution_count": 1,
      "outputs": []
    },
    {
      "cell_type": "code",
      "metadata": {
        "id": "40RplKqJn61l"
      },
      "source": [
        "# Read Data\n",
        "\n",
        "recipe_1 = pd.read_csv(\"01_Easy cookie recipes_cleaned.csv\")\n",
        "recipe_2 = pd.read_csv(\"02_Buttermilk recipes_cleaned.csv\")\n",
        "recipe_3 = pd.read_csv(\"03_Butternut squash recipes_cleaned.csv\")\n",
        "recipe_4 = pd.read_csv(\"04_Sourdough discard recipes_cleaned.csv\")\n",
        "recipe_5 = pd.read_csv(\"05_Scalloped potatoes recipes_cleaned.csv\")\n",
        "recipe_6 = pd.read_csv(\"06_Bread recipes_cleaned.csv\")\n",
        "recipe_7 = pd.read_csv(\"07_Coleslaw recipes_cleaned.csv\")\n",
        "recipe_8 = pd.read_csv(\"08_Crockpot recipes_cleaned.csv\")\n",
        "recipe_9 = pd.read_csv(\"09_Breakfast recipes_cleaned.csv\")\n",
        "recipe_10 = pd.read_csv(\"10_Air fryer recipes_cleaned.csv\")\n",
        "\n",
        "# Comparison\n",
        "comparison_1 = pd.read_csv(\"01_Covid-Now_EI-Comparison_cleaned.csv\")\n",
        "comparison_2 = pd.read_csv(\"02_Covid-Now_EI-Comparison_cleaned.csv\")\n",
        "comparison_3 = pd.read_csv(\"03_Covid-Now_EI-Comparison_cleaned.csv\")\n",
        "\n",
        "# Diet\n",
        "diet_1 = pd.read_csv(\"01_The Sirtfood diet_cleaned.csv\")\n",
        "diet_2 = pd.read_csv(\"02_GERD diet_cleaned.csv\")\n",
        "diet_3 = pd.read_csv(\"03_Candida diet_cleaned.csv\")\n",
        "diet_4 = pd.read_csv(\"04_Keto diet_cleaned.csv\")\n",
        "diet_5 = pd.read_csv(\"05_Plant based diet_cleaned.csv\")\n",
        "diet_6 = pd.read_csv(\"06_Anti inflammatory diet_cleaned.csv\")\n",
        "diet_7 = pd.read_csv(\"07_Fatty liver diet_cleaned.csv\")\n",
        "diet_8 = pd.read_csv(\"08_DASH diet_cleaned.csv\")\n",
        "diet_9 = pd.read_csv(\"09_Alkaline diet_cleaned.csv\")\n",
        "diet_10 = pd.read_csv(\"10_IBS diet_cleaned.csv\")\n",
        "\n",
        "# Uber\n",
        "uber_1 = pd.read_csv(\"01_uber-EI_covid.csv\")\n",
        "uber_2 = pd.read_csv(\"02_uber-EI_covid.csv\")\n",
        "uber_3 = pd.read_csv(\"03_uber-EI_covid.csv\")"
      ],
      "execution_count": 17,
      "outputs": []
    },
    {
      "cell_type": "code",
      "metadata": {
        "id": "Hkitv9miqrj1"
      },
      "source": [
        "# Place relevant files in dataframes\n",
        "\n",
        "data_frames = [recipe_1, recipe_2, recipe_3, recipe_4, recipe_5, recipe_6, recipe_7, recipe_8, recipe_9, recipe_10]\n",
        "data_frames_comparison = [comparison_1, comparison_2, comparison_3]\n",
        "data_frames_diet = [diet_1, diet_2, diet_3, diet_4, diet_5, diet_6, diet_7, diet_8, diet_9, diet_10]\n",
        "data_frames_uber = [uber_1, uber_2, uber_3]"
      ],
      "execution_count": 18,
      "outputs": []
    },
    {
      "cell_type": "code",
      "metadata": {
        "id": "yWT-JUPQqz04"
      },
      "source": [
        "# Merging all the csvs in the dataframes together\n",
        "\n",
        "recipe_merged = reduce(lambda  left,right: pd.merge(left,right,on=['Week'],\n",
        "                                            how='outer'), data_frames)"
      ],
      "execution_count": 4,
      "outputs": []
    },
    {
      "cell_type": "code",
      "metadata": {
        "id": "EqKh-0wU3MPn"
      },
      "source": [
        "# Turning all fields into numeric except for Week\n",
        "\n",
        "recipe_merged[['Easy cookie recipes: (Canada)', \n",
        "                               'Buttermilk recipes: (Canada)',\n",
        "                               'Butternut squash recipes: (Canada)',\n",
        "                               'Sourdough discard recipes: (Canada)',\n",
        "                               'Scalloped potatoes recipes: (Canada)', \n",
        "                               'Bread recipes: (Canada)',\n",
        "                               'Coleslaw recipes: (Canada)', \n",
        "                               'Crock Pot recipes: (Canada)',\n",
        "                               'Breakfast recipes: (Canada)', \n",
        "                               'Air fryer recipes: (Canada)']] = recipe_merged[['Easy cookie recipes: (Canada)', \n",
        "                               'Buttermilk recipes: (Canada)',\n",
        "                               'Butternut squash recipes: (Canada)',\n",
        "                               'Sourdough discard recipes: (Canada)',\n",
        "                               'Scalloped potatoes recipes: (Canada)', \n",
        "                               'Bread recipes: (Canada)',\n",
        "                               'Coleslaw recipes: (Canada)', \n",
        "                               'Crock Pot recipes: (Canada)',\n",
        "                               'Breakfast recipes: (Canada)', \n",
        "                               'Air fryer recipes: (Canada)']].apply(pd.to_numeric, errors='coerce')"
      ],
      "execution_count": 5,
      "outputs": []
    },
    {
      "cell_type": "code",
      "metadata": {
        "id": "Tij6L0-o3pOn"
      },
      "source": [
        "# Fill Nan with 0\n",
        "\n",
        "recipe_merged = recipe_merged.fillna(0)"
      ],
      "execution_count": 6,
      "outputs": []
    },
    {
      "cell_type": "code",
      "metadata": {
        "id": "NyXBPEFJ7eAn"
      },
      "source": [
        "# Merging diet files\n",
        "\n",
        "diet_merged = reduce(lambda  left,right: pd.merge(left,right,on=['Week'],\n",
        "                                            how='outer'), data_frames_diet)"
      ],
      "execution_count": 7,
      "outputs": []
    },
    {
      "cell_type": "code",
      "metadata": {
        "id": "KSvCxFH082uC"
      },
      "source": [
        "# Creating column list\n",
        "\n",
        "diet_merged_colist = ['The Sirtfood diet: (Canada)', \n",
        "             'GERD diet: (Canada)',\n",
        "             'The Candida diet: (Canada)', \n",
        "             'Keto diet: (Canada)',\n",
        "             'Plant-based diet: (Canada)', \n",
        "             'Anti-inflammatory diet: (Canada)',\n",
        "             'Fatty liver diet: (Canada)', 'DASH diet: (Canada)',\n",
        "             'Alkaline diet: (Canada)', \n",
        "             'IBS diet: (Canada)']"
      ],
      "execution_count": 8,
      "outputs": []
    },
    {
      "cell_type": "code",
      "metadata": {
        "id": "bR8I3meM82Qg"
      },
      "source": [
        "# Coercing and numeric-ing diet files\n",
        "diet_merged[diet_merged_colist] = diet_merged[diet_merged_colist].apply(pd.to_numeric, errors='coerce')"
      ],
      "execution_count": 9,
      "outputs": []
    },
    {
      "cell_type": "code",
      "metadata": {
        "id": "JTsQBQ6R9Vbq"
      },
      "source": [
        "# Fill NA for diet\n",
        "\n",
        "diet_merged = diet_merged.fillna(0)"
      ],
      "execution_count": 10,
      "outputs": []
    },
    {
      "cell_type": "code",
      "metadata": {
        "id": "DSRwzPob9b9a"
      },
      "source": [
        "# Merging recipe with diet\n",
        "\n",
        "recipe_diet = recipe_merged.merge(diet_merged, on='Week', how='left')"
      ],
      "execution_count": 11,
      "outputs": []
    },
    {
      "cell_type": "code",
      "metadata": {
        "id": "DoJQJjUCtc7W"
      },
      "source": [
        "# Same steps for comparison\n",
        "\n",
        "comparison_merged = reduce(lambda  left,right: pd.merge(left,right,on=['Week'],\n",
        "                                            how='outer'), data_frames_comparison)"
      ],
      "execution_count": 12,
      "outputs": []
    },
    {
      "cell_type": "code",
      "metadata": {
        "id": "ucBwQcxA2BV7"
      },
      "source": [
        "# Coercing and numeric\n",
        "\n",
        "comparison_merged[['How to apply for EI: (Canada)',\n",
        "                   'How to get tested for Coronavirus: (Canada)',\n",
        "                   'Easy Cookie Recipes - Comparison', \n",
        "                   'Buttermilk Recipes - Comparison',\n",
        "                   'Butternut squash recipes - Comparison',\n",
        "                   'Sourdough discard recipes - Comparison',\n",
        "                   'Scalloped potatoes recipes - Comparison', \n",
        "                   'Bread recipes - Comparison',\n",
        "                   'Coleslaw recipes - Comparison', \n",
        "                   'Crockpot recipes - Comparison',\n",
        "                   'Breakfast recipes - Comparison',\n",
        "                   'Air fryer recipes - Comparison']] = comparison_merged[['How to apply for EI: (Canada)',\n",
        "                   'How to get tested for Coronavirus: (Canada)',\n",
        "                   'Easy Cookie Recipes - Comparison', \n",
        "                   'Buttermilk Recipes - Comparison',\n",
        "                   'Butternut squash recipes - Comparison',\n",
        "                   'Sourdough discard recipes - Comparison',\n",
        "                   'Scalloped potatoes recipes - Comparison', \n",
        "                   'Bread recipes - Comparison',\n",
        "                   'Coleslaw recipes - Comparison', \n",
        "                   'Crockpot recipes - Comparison',\n",
        "                   'Breakfast recipes - Comparison',\n",
        "                   'Air fryer recipes - Comparison']].apply(pd.to_numeric, errors='coerce')"
      ],
      "execution_count": 13,
      "outputs": []
    },
    {
      "cell_type": "code",
      "metadata": {
        "id": "VpGHDImR34ia"
      },
      "source": [
        "# Fill NA\n",
        "\n",
        "comparison_merged = comparison_merged.fillna(0)"
      ],
      "execution_count": 14,
      "outputs": []
    },
    {
      "cell_type": "code",
      "metadata": {
        "id": "vWB1J3v3vrQw"
      },
      "source": [
        "# Merge Recipe + Diet with Comparison\n",
        "\n",
        "merged_google = recipe_diet.merge(comparison_merged, on='Week', how='left')"
      ],
      "execution_count": 15,
      "outputs": []
    },
    {
      "cell_type": "code",
      "metadata": {
        "id": "YliCtbLQi-5G"
      },
      "source": [
        "# Working with Uber data\n",
        "\n",
        "uber_merged = reduce(lambda  left,right: pd.merge(left,right,on=['Week'],\n",
        "                                            how='outer'), data_frames_uber)"
      ],
      "execution_count": 19,
      "outputs": []
    },
    {
      "cell_type": "code",
      "metadata": {
        "id": "Gi7z0qRKjmG5"
      },
      "source": [
        "# Uber data\n",
        "\n",
        "uber_merged_colist = ['how to apply for ei: (Canada)', 'butter chicken: (Canada)',\n",
        "       'poutine: (Canada)', 'miso soup: (Canada)', 'pad thai: (Canada)',\n",
        "       'Naan: (Canada)', 'Fries: (Canada)', 'bubble tea: (Canada)',\n",
        "       'edamame: (Canada)', 'shawarma: (Canada)', 'onion rings: (Canada)']"
      ],
      "execution_count": 22,
      "outputs": []
    },
    {
      "cell_type": "code",
      "metadata": {
        "id": "TIe8gV5JjhZ2"
      },
      "source": [
        "# Merge Uber dataframes\n",
        "\n",
        "uber_merged[uber_merged_colist] = uber_merged[uber_merged_colist].apply(pd.to_numeric, errors='coerce')"
      ],
      "execution_count": 24,
      "outputs": []
    },
    {
      "cell_type": "code",
      "metadata": {
        "id": "EAj2h3myjz2r"
      },
      "source": [
        "# Fill NA\n",
        "\n",
        "uber_merged = uber_merged.fillna(0)"
      ],
      "execution_count": 25,
      "outputs": []
    },
    {
      "cell_type": "code",
      "metadata": {
        "id": "danJR4pkj39j"
      },
      "source": [
        "# Final merge of everything\n",
        "\n",
        "merged_google2 = merged_google.merge(uber_merged, on='Week', how='left')"
      ],
      "execution_count": 26,
      "outputs": []
    },
    {
      "cell_type": "code",
      "metadata": {
        "id": "XOEue01CuoL_"
      },
      "source": [
        "# Write csv\n",
        "\n",
        "merged_google2.to_csv('merged_google_2.csv', index=False)"
      ],
      "execution_count": 28,
      "outputs": []
    }
  ]
}