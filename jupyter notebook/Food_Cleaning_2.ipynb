{
  "nbformat": 4,
  "nbformat_minor": 0,
  "metadata": {
    "colab": {
      "name": "Food-Cleaning-2.ipynb",
      "provenance": []
    },
    "kernelspec": {
      "name": "python3",
      "display_name": "Python 3"
    },
    "language_info": {
      "name": "python"
    }
  },
  "cells": [
    {
      "cell_type": "code",
      "metadata": {
        "id": "vuUslJpNdTsW"
      },
      "source": [
        "import pandas as pd\n",
        "import numpy as np\n",
        "from functools import reduce"
      ],
      "execution_count": 2,
      "outputs": []
    },
    {
      "cell_type": "code",
      "metadata": {
        "id": "x8TzrD-igCOa"
      },
      "source": [
        "delivery_1 = pd.read_csv(\"https://raw.githubusercontent.com/JeremyJChu/canadian-covid-food-trends/main/data/input/01_5year-delivery.csv\")"
      ],
      "execution_count": 3,
      "outputs": []
    },
    {
      "cell_type": "code",
      "metadata": {
        "colab": {
          "base_uri": "https://localhost:8080/"
        },
        "id": "jUGEuu85ooM3",
        "outputId": "164cca01-eb23-494e-a138-1bb33d89fc8f"
      },
      "source": [
        "delivery_1.columns"
      ],
      "execution_count": 6,
      "outputs": [
        {
          "output_type": "execute_result",
          "data": {
            "text/plain": [
              "Index(['Week', 'how to apply for ei: (Canada)', 'uber eats: (Canada)',\n",
              "       'skip the dishes: (Canada)', 'doordash: (Canada)', 'uber: (Canada)'],\n",
              "      dtype='object')"
            ]
          },
          "metadata": {
            "tags": []
          },
          "execution_count": 6
        }
      ]
    },
    {
      "cell_type": "code",
      "metadata": {
        "id": "ex9gMocDopdt"
      },
      "source": [
        "delivery_1_colist = ['how to apply for ei: (Canada)', 'uber eats: (Canada)',\n",
        "       'skip the dishes: (Canada)', 'doordash: (Canada)', 'uber: (Canada)']"
      ],
      "execution_count": 7,
      "outputs": []
    },
    {
      "cell_type": "code",
      "metadata": {
        "id": "wIKsHoZxowOr"
      },
      "source": [
        "delivery_1[delivery_1_colist] = delivery_1[delivery_1_colist].apply(pd.to_numeric, errors='coerce')"
      ],
      "execution_count": 8,
      "outputs": []
    },
    {
      "cell_type": "code",
      "metadata": {
        "id": "F0XNWxk7o3hT"
      },
      "source": [
        "delivery_1 = delivery_1.fillna(0)"
      ],
      "execution_count": 10,
      "outputs": []
    },
    {
      "cell_type": "code",
      "metadata": {
        "id": "l95pmQAro77b"
      },
      "source": [
        "delivery_1.to_csv('delivery_1.csv', index=False)"
      ],
      "execution_count": 12,
      "outputs": []
    }
  ]
}